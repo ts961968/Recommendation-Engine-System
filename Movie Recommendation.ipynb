{
 "cells": [
  {
   "cell_type": "code",
   "execution_count": 1,
   "metadata": {},
   "outputs": [],
   "source": [
    "import numpy as np\n",
    "import pandas as pd\n",
    "import matplotlib.pyplot as plt"
   ]
  },
  {
   "cell_type": "markdown",
   "metadata": {},
   "source": [
    "# Import the dataset"
   ]
  },
  {
   "cell_type": "code",
   "execution_count": 2,
   "metadata": {},
   "outputs": [],
   "source": [
    "df = pd.read_csv('CapstoneDataSet.csv')"
   ]
  },
  {
   "cell_type": "code",
   "execution_count": 3,
   "metadata": {},
   "outputs": [
    {
     "data": {
      "text/html": [
       "<div>\n",
       "<style scoped>\n",
       "    .dataframe tbody tr th:only-of-type {\n",
       "        vertical-align: middle;\n",
       "    }\n",
       "\n",
       "    .dataframe tbody tr th {\n",
       "        vertical-align: top;\n",
       "    }\n",
       "\n",
       "    .dataframe thead th {\n",
       "        text-align: right;\n",
       "    }\n",
       "</style>\n",
       "<table border=\"1\" class=\"dataframe\">\n",
       "  <thead>\n",
       "    <tr style=\"text-align: right;\">\n",
       "      <th></th>\n",
       "      <th>Cust_Id</th>\n",
       "      <th>Rating</th>\n",
       "      <th>Movie_Id</th>\n",
       "      <th>Genre</th>\n",
       "      <th>MovieName</th>\n",
       "    </tr>\n",
       "  </thead>\n",
       "  <tbody>\n",
       "    <tr>\n",
       "      <th>0</th>\n",
       "      <td>1488844</td>\n",
       "      <td>3</td>\n",
       "      <td>1</td>\n",
       "      <td>Action</td>\n",
       "      <td>Dinosaur Planet</td>\n",
       "    </tr>\n",
       "    <tr>\n",
       "      <th>1</th>\n",
       "      <td>822109</td>\n",
       "      <td>5</td>\n",
       "      <td>1</td>\n",
       "      <td>Action</td>\n",
       "      <td>Dinosaur Planet</td>\n",
       "    </tr>\n",
       "    <tr>\n",
       "      <th>2</th>\n",
       "      <td>885013</td>\n",
       "      <td>4</td>\n",
       "      <td>1</td>\n",
       "      <td>Action</td>\n",
       "      <td>Dinosaur Planet</td>\n",
       "    </tr>\n",
       "    <tr>\n",
       "      <th>3</th>\n",
       "      <td>30878</td>\n",
       "      <td>4</td>\n",
       "      <td>1</td>\n",
       "      <td>Action</td>\n",
       "      <td>Dinosaur Planet</td>\n",
       "    </tr>\n",
       "    <tr>\n",
       "      <th>4</th>\n",
       "      <td>823519</td>\n",
       "      <td>3</td>\n",
       "      <td>1</td>\n",
       "      <td>Action</td>\n",
       "      <td>Dinosaur Planet</td>\n",
       "    </tr>\n",
       "    <tr>\n",
       "      <th>...</th>\n",
       "      <td>...</td>\n",
       "      <td>...</td>\n",
       "      <td>...</td>\n",
       "      <td>...</td>\n",
       "      <td>...</td>\n",
       "    </tr>\n",
       "    <tr>\n",
       "      <th>1048569</th>\n",
       "      <td>196625</td>\n",
       "      <td>4</td>\n",
       "      <td>241</td>\n",
       "      <td>Horror</td>\n",
       "      <td>North by NorthWest</td>\n",
       "    </tr>\n",
       "    <tr>\n",
       "      <th>1048570</th>\n",
       "      <td>138835</td>\n",
       "      <td>3</td>\n",
       "      <td>241</td>\n",
       "      <td>Horror</td>\n",
       "      <td>North by NorthWest</td>\n",
       "    </tr>\n",
       "    <tr>\n",
       "      <th>1048571</th>\n",
       "      <td>1400154</td>\n",
       "      <td>5</td>\n",
       "      <td>241</td>\n",
       "      <td>Horror</td>\n",
       "      <td>North by NorthWest</td>\n",
       "    </tr>\n",
       "    <tr>\n",
       "      <th>1048572</th>\n",
       "      <td>1018992</td>\n",
       "      <td>3</td>\n",
       "      <td>241</td>\n",
       "      <td>Horror</td>\n",
       "      <td>North by NorthWest</td>\n",
       "    </tr>\n",
       "    <tr>\n",
       "      <th>1048573</th>\n",
       "      <td>2061180</td>\n",
       "      <td>4</td>\n",
       "      <td>241</td>\n",
       "      <td>Horror</td>\n",
       "      <td>North by NorthWest</td>\n",
       "    </tr>\n",
       "  </tbody>\n",
       "</table>\n",
       "<p>1048574 rows × 5 columns</p>\n",
       "</div>"
      ],
      "text/plain": [
       "         Cust_Id  Rating  Movie_Id   Genre           MovieName\n",
       "0        1488844       3         1  Action     Dinosaur Planet\n",
       "1         822109       5         1  Action     Dinosaur Planet\n",
       "2         885013       4         1  Action     Dinosaur Planet\n",
       "3          30878       4         1  Action     Dinosaur Planet\n",
       "4         823519       3         1  Action     Dinosaur Planet\n",
       "...          ...     ...       ...     ...                 ...\n",
       "1048569   196625       4       241  Horror  North by NorthWest\n",
       "1048570   138835       3       241  Horror  North by NorthWest\n",
       "1048571  1400154       5       241  Horror  North by NorthWest\n",
       "1048572  1018992       3       241  Horror  North by NorthWest\n",
       "1048573  2061180       4       241  Horror  North by NorthWest\n",
       "\n",
       "[1048574 rows x 5 columns]"
      ]
     },
     "execution_count": 3,
     "metadata": {},
     "output_type": "execute_result"
    }
   ],
   "source": [
    "df"
   ]
  },
  {
   "cell_type": "markdown",
   "metadata": {},
   "source": [
    "# EDA"
   ]
  },
  {
   "cell_type": "code",
   "execution_count": 4,
   "metadata": {},
   "outputs": [
    {
     "data": {
      "text/plain": [
       "Cust_Id         0\n",
       "Rating          0\n",
       "Movie_Id        0\n",
       "Genre        1086\n",
       "MovieName       0\n",
       "dtype: int64"
      ]
     },
     "execution_count": 4,
     "metadata": {},
     "output_type": "execute_result"
    }
   ],
   "source": [
    "missData = df.isnull().sum()\n",
    "missData"
   ]
  },
  {
   "cell_type": "code",
   "execution_count": 5,
   "metadata": {},
   "outputs": [
    {
     "name": "stdout",
     "output_type": "stream",
     "text": [
      "the percentage of missing data = 0.10356922830434476\n"
     ]
    }
   ],
   "source": [
    "# find out the percentage of missing data\n",
    "percentMiss = missData[3]/df.shape[0] * 100\n",
    "print(f'the percentage of missing data = {percentMiss}')"
   ]
  },
  {
   "cell_type": "markdown",
   "metadata": {},
   "source": [
    "The percentage of missinng data is less therefore, dropping the nan values "
   ]
  },
  {
   "cell_type": "code",
   "execution_count": 6,
   "metadata": {},
   "outputs": [
    {
     "data": {
      "text/plain": [
       "(1047488, 5)"
      ]
     },
     "execution_count": 6,
     "metadata": {},
     "output_type": "execute_result"
    }
   ],
   "source": [
    "df.dropna(inplace=True)\n",
    "df.shape"
   ]
  },
  {
   "cell_type": "markdown",
   "metadata": {},
   "source": [
    "## Find out the list of most popular and liked genre"
   ]
  },
  {
   "cell_type": "code",
   "execution_count": 7,
   "metadata": {},
   "outputs": [],
   "source": [
    "genre = df.groupby('Genre')['Genre'].agg('count')\n",
    "genre.sort_values(ascending=False,inplace=True)"
   ]
  },
  {
   "cell_type": "code",
   "execution_count": 8,
   "metadata": {},
   "outputs": [
    {
     "name": "stdout",
     "output_type": "stream",
     "text": [
      "The most popular genre is : Historical\n"
     ]
    }
   ],
   "source": [
    "print(f'The most popular genre is : {genre.index[0]}')"
   ]
  },
  {
   "cell_type": "code",
   "execution_count": 9,
   "metadata": {},
   "outputs": [
    {
     "data": {
      "text/plain": [
       "'Historical'"
      ]
     },
     "execution_count": 9,
     "metadata": {},
     "output_type": "execute_result"
    }
   ],
   "source": [
    "genre.index[0]"
   ]
  },
  {
   "cell_type": "code",
   "execution_count": 10,
   "metadata": {},
   "outputs": [],
   "source": [
    "genreLiked = df.groupby('Genre')['Rating'].mean()"
   ]
  },
  {
   "cell_type": "code",
   "execution_count": 11,
   "metadata": {},
   "outputs": [],
   "source": [
    "genreLiked.sort_values(ascending=False,inplace=True)"
   ]
  },
  {
   "cell_type": "code",
   "execution_count": 12,
   "metadata": {},
   "outputs": [
    {
     "name": "stdout",
     "output_type": "stream",
     "text": [
      "The most liked genre is : Horror\n"
     ]
    }
   ],
   "source": [
    "print(f'The most liked genre is : {genreLiked.index[0]}')"
   ]
  },
  {
   "cell_type": "markdown",
   "metadata": {},
   "source": [
    "# Create Model that finds the best suited Movie for one user in every genre."
   ]
  },
  {
   "cell_type": "code",
   "execution_count": 13,
   "metadata": {},
   "outputs": [
    {
     "name": "stdout",
     "output_type": "stream",
     "text": [
      "Collecting package metadata (current_repodata.json): ...working... done\n",
      "Solving environment: ...working... done\n",
      "\n",
      "# All requested packages already installed.\n",
      "\n",
      "\n",
      "Note: you may need to restart the kernel to use updated packages.\n"
     ]
    },
    {
     "name": "stderr",
     "output_type": "stream",
     "text": [
      "DEBUG:urllib3.connectionpool:Starting new HTTPS connection (1): conda.anaconda.org:443\n",
      "DEBUG:urllib3.connectionpool:Starting new HTTPS connection (1): conda.anaconda.org:443\n",
      "DEBUG:urllib3.connectionpool:Starting new HTTPS connection (1): repo.anaconda.com:443\n",
      "DEBUG:urllib3.connectionpool:Starting new HTTPS connection (1): repo.anaconda.com:443\n",
      "DEBUG:urllib3.connectionpool:Starting new HTTPS connection (1): repo.anaconda.com:443\n",
      "DEBUG:urllib3.connectionpool:Starting new HTTPS connection (1): repo.anaconda.com:443\n",
      "DEBUG:urllib3.connectionpool:Starting new HTTPS connection (1): repo.anaconda.com:443\n",
      "DEBUG:urllib3.connectionpool:Starting new HTTPS connection (1): repo.anaconda.com:443\n",
      "DEBUG:urllib3.connectionpool:https://repo.anaconda.com:443 \"GET /pkgs/r/noarch/current_repodata.json HTTP/1.1\" 304 0\n",
      "DEBUG:urllib3.connectionpool:https://repo.anaconda.com:443 \"GET /pkgs/msys2/win-64/current_repodata.json HTTP/1.1\" 304 0\n",
      "DEBUG:urllib3.connectionpool:https://repo.anaconda.com:443 \"GET /pkgs/r/win-64/current_repodata.json HTTP/1.1\" 304 0\n",
      "DEBUG:urllib3.connectionpool:https://repo.anaconda.com:443 \"GET /pkgs/main/win-64/current_repodata.json HTTP/1.1\" 304 0\n",
      "DEBUG:urllib3.connectionpool:https://repo.anaconda.com:443 \"GET /pkgs/msys2/noarch/current_repodata.json HTTP/1.1\" 304 0\n",
      "DEBUG:urllib3.connectionpool:https://repo.anaconda.com:443 \"GET /pkgs/main/noarch/current_repodata.json HTTP/1.1\" 304 0\n",
      "DEBUG:urllib3.connectionpool:https://conda.anaconda.org:443 \"GET /conda-forge/win-64/current_repodata.json HTTP/1.1\" 200 None\n",
      "DEBUG:urllib3.connectionpool:https://conda.anaconda.org:443 \"GET /conda-forge/noarch/current_repodata.json HTTP/1.1\" 200 None\n",
      "\n",
      "\n",
      "==> WARNING: A newer version of conda exists. <==\n",
      "  current version: 23.7.4\n",
      "  latest version: 24.1.1\n",
      "\n",
      "Please update conda by running\n",
      "\n",
      "    $ conda update -n base -c conda-forge conda\n",
      "\n",
      "Or to minimize the number of packages updated during conda update use\n",
      "\n",
      "     conda install conda=24.1.1\n",
      "\n",
      "\n"
     ]
    }
   ],
   "source": [
    "# conda install -c conda-forge scikit-surprise"
   ]
  },
  {
   "cell_type": "code",
   "execution_count": 44,
   "metadata": {},
   "outputs": [
    {
     "data": {
      "text/html": [
       "<div>\n",
       "<style scoped>\n",
       "    .dataframe tbody tr th:only-of-type {\n",
       "        vertical-align: middle;\n",
       "    }\n",
       "\n",
       "    .dataframe tbody tr th {\n",
       "        vertical-align: top;\n",
       "    }\n",
       "\n",
       "    .dataframe thead th {\n",
       "        text-align: right;\n",
       "    }\n",
       "</style>\n",
       "<table border=\"1\" class=\"dataframe\">\n",
       "  <thead>\n",
       "    <tr style=\"text-align: right;\">\n",
       "      <th></th>\n",
       "      <th>Movie_Id</th>\n",
       "      <th>Genre</th>\n",
       "      <th>MovieName</th>\n",
       "    </tr>\n",
       "  </thead>\n",
       "  <tbody>\n",
       "    <tr>\n",
       "      <th>2</th>\n",
       "      <td>3</td>\n",
       "      <td>Horror</td>\n",
       "      <td>Character</td>\n",
       "    </tr>\n",
       "    <tr>\n",
       "      <th>239</th>\n",
       "      <td>241</td>\n",
       "      <td>Horror</td>\n",
       "      <td>North by NorthWest</td>\n",
       "    </tr>\n",
       "  </tbody>\n",
       "</table>\n",
       "</div>"
      ],
      "text/plain": [
       "     Movie_Id   Genre           MovieName\n",
       "2           3  Horror           Character\n",
       "239       241  Horror  North by NorthWest"
      ]
     },
     "execution_count": 44,
     "metadata": {},
     "output_type": "execute_result"
    }
   ],
   "source": []
  },
  {
   "cell_type": "code",
   "execution_count": 38,
   "metadata": {},
   "outputs": [],
   "source": [
    "# Import required libraries\n",
    "import math\n",
    "\n",
    "import matplotlib.pyplot as plt\n",
    "\n",
    "from surprise import Reader, Dataset, SVD\n",
    "from surprise.model_selection import cross_validate"
   ]
  },
  {
   "cell_type": "code",
   "execution_count": 39,
   "metadata": {},
   "outputs": [
    {
     "name": "stdout",
     "output_type": "stream",
     "text": [
      "Evaluating RMSE, MAE of algorithm SVD on 3 split(s).\n",
      "\n",
      "                  Fold 1  Fold 2  Fold 3  Mean    Std     \n",
      "RMSE (testset)    1.0517  1.0554  1.0604  1.0558  0.0036  \n",
      "MAE (testset)     0.8519  0.8570  0.8382  0.8490  0.0080  \n",
      "Fit time          0.58    0.68    0.74    0.67    0.07    \n",
      "Test time         0.13    0.19    0.13    0.15    0.03    \n"
     ]
    },
    {
     "data": {
      "text/plain": [
       "{'test_rmse': array([1.05168182, 1.05535253, 1.06044369]),\n",
       " 'test_mae': array([0.85189938, 0.8570137 , 0.83818345]),\n",
       " 'fit_time': (0.5809102058410645, 0.6790745258331299, 0.7438008785247803),\n",
       " 'test_time': (0.12523269653320312, 0.19163155555725098, 0.13127827644348145)}"
      ]
     },
     "execution_count": 39,
     "metadata": {},
     "output_type": "execute_result"
    }
   ],
   "source": []
  },
  {
   "cell_type": "markdown",
   "metadata": {},
   "source": [
    "### Training to get the best movie for each Genre"
   ]
  },
  {
   "cell_type": "markdown",
   "metadata": {},
   "source": [
    "newDF = df[['Movie_Id','Genre','MovieName']].drop_duplicates()\n",
    "newDF.reset_index(inplace=True)\n",
    "newDF.drop(columns=['index'],inplace=True)\n",
    "newDF['Movie_Id'].nunique()"
   ]
  },
  {
   "cell_type": "code",
   "execution_count": 69,
   "metadata": {},
   "outputs": [
    {
     "data": {
      "text/html": [
       "<div>\n",
       "<style scoped>\n",
       "    .dataframe tbody tr th:only-of-type {\n",
       "        vertical-align: middle;\n",
       "    }\n",
       "\n",
       "    .dataframe tbody tr th {\n",
       "        vertical-align: top;\n",
       "    }\n",
       "\n",
       "    .dataframe thead th {\n",
       "        text-align: right;\n",
       "    }\n",
       "</style>\n",
       "<table border=\"1\" class=\"dataframe\">\n",
       "  <thead>\n",
       "    <tr style=\"text-align: right;\">\n",
       "      <th></th>\n",
       "      <th>Movie_Id</th>\n",
       "      <th>Genre</th>\n",
       "      <th>MovieName</th>\n",
       "    </tr>\n",
       "  </thead>\n",
       "  <tbody>\n",
       "    <tr>\n",
       "      <th>7</th>\n",
       "      <td>8</td>\n",
       "      <td>Animation</td>\n",
       "      <td>What the #$*! Do We Know!?</td>\n",
       "    </tr>\n",
       "    <tr>\n",
       "      <th>9</th>\n",
       "      <td>10</td>\n",
       "      <td>Animation</td>\n",
       "      <td>Fighter</td>\n",
       "    </tr>\n",
       "    <tr>\n",
       "      <th>11</th>\n",
       "      <td>12</td>\n",
       "      <td>Animation</td>\n",
       "      <td>My Favorite Brunette</td>\n",
       "    </tr>\n",
       "    <tr>\n",
       "      <th>13</th>\n",
       "      <td>14</td>\n",
       "      <td>Animation</td>\n",
       "      <td>Nature: Antarctica</td>\n",
       "    </tr>\n",
       "    <tr>\n",
       "      <th>15</th>\n",
       "      <td>16</td>\n",
       "      <td>Animation</td>\n",
       "      <td>Screamers</td>\n",
       "    </tr>\n",
       "    <tr>\n",
       "      <th>17</th>\n",
       "      <td>18</td>\n",
       "      <td>Animation</td>\n",
       "      <td>Immortal Beloved</td>\n",
       "    </tr>\n",
       "    <tr>\n",
       "      <th>19</th>\n",
       "      <td>20</td>\n",
       "      <td>Animation</td>\n",
       "      <td>Seeta Aur Geeta</td>\n",
       "    </tr>\n",
       "    <tr>\n",
       "      <th>21</th>\n",
       "      <td>22</td>\n",
       "      <td>Animation</td>\n",
       "      <td>Chump Change</td>\n",
       "    </tr>\n",
       "    <tr>\n",
       "      <th>35</th>\n",
       "      <td>36</td>\n",
       "      <td>Animation</td>\n",
       "      <td>Lady Chatterley</td>\n",
       "    </tr>\n",
       "    <tr>\n",
       "      <th>56</th>\n",
       "      <td>57</td>\n",
       "      <td>Animation</td>\n",
       "      <td>Richard III</td>\n",
       "    </tr>\n",
       "    <tr>\n",
       "      <th>70</th>\n",
       "      <td>71</td>\n",
       "      <td>Animation</td>\n",
       "      <td>Maya Lin: A Strong Clear Vision</td>\n",
       "    </tr>\n",
       "    <tr>\n",
       "      <th>83</th>\n",
       "      <td>84</td>\n",
       "      <td>Animation</td>\n",
       "      <td>The Powerpuff Girls Movie</td>\n",
       "    </tr>\n",
       "    <tr>\n",
       "      <th>96</th>\n",
       "      <td>97</td>\n",
       "      <td>Animation</td>\n",
       "      <td>Mostly Martha</td>\n",
       "    </tr>\n",
       "    <tr>\n",
       "      <th>110</th>\n",
       "      <td>111</td>\n",
       "      <td>Animation</td>\n",
       "      <td>Duplex (Widescreen)</td>\n",
       "    </tr>\n",
       "    <tr>\n",
       "      <th>124</th>\n",
       "      <td>125</td>\n",
       "      <td>Animation</td>\n",
       "      <td>Nighthawks</td>\n",
       "    </tr>\n",
       "    <tr>\n",
       "      <th>138</th>\n",
       "      <td>139</td>\n",
       "      <td>Animation</td>\n",
       "      <td>Allergies: A Natural Approach</td>\n",
       "    </tr>\n",
       "    <tr>\n",
       "      <th>152</th>\n",
       "      <td>153</td>\n",
       "      <td>Animation</td>\n",
       "      <td>MTV Yoga</td>\n",
       "    </tr>\n",
       "    <tr>\n",
       "      <th>166</th>\n",
       "      <td>167</td>\n",
       "      <td>Animation</td>\n",
       "      <td>The Chorus</td>\n",
       "    </tr>\n",
       "    <tr>\n",
       "      <th>180</th>\n",
       "      <td>181</td>\n",
       "      <td>Animation</td>\n",
       "      <td>The Last Shot</td>\n",
       "    </tr>\n",
       "    <tr>\n",
       "      <th>194</th>\n",
       "      <td>195</td>\n",
       "      <td>Animation</td>\n",
       "      <td>Chasing Freedom</td>\n",
       "    </tr>\n",
       "    <tr>\n",
       "      <th>208</th>\n",
       "      <td>209</td>\n",
       "      <td>Animation</td>\n",
       "      <td>Star Trek: Deep Space Nine: Season 5</td>\n",
       "    </tr>\n",
       "    <tr>\n",
       "      <th>222</th>\n",
       "      <td>223</td>\n",
       "      <td>Animation</td>\n",
       "      <td>Chappelle's Show: Season 1</td>\n",
       "    </tr>\n",
       "    <tr>\n",
       "      <th>235</th>\n",
       "      <td>237</td>\n",
       "      <td>Animation</td>\n",
       "      <td>Broken Blossoms</td>\n",
       "    </tr>\n",
       "  </tbody>\n",
       "</table>\n",
       "</div>"
      ],
      "text/plain": [
       "     Movie_Id      Genre                             MovieName\n",
       "7           8  Animation            What the #$*! Do We Know!?\n",
       "9          10  Animation                               Fighter\n",
       "11         12  Animation                  My Favorite Brunette\n",
       "13         14  Animation                    Nature: Antarctica\n",
       "15         16  Animation                             Screamers\n",
       "17         18  Animation                      Immortal Beloved\n",
       "19         20  Animation                       Seeta Aur Geeta\n",
       "21         22  Animation                          Chump Change\n",
       "35         36  Animation                       Lady Chatterley\n",
       "56         57  Animation                           Richard III\n",
       "70         71  Animation       Maya Lin: A Strong Clear Vision\n",
       "83         84  Animation             The Powerpuff Girls Movie\n",
       "96         97  Animation                         Mostly Martha\n",
       "110       111  Animation                   Duplex (Widescreen)\n",
       "124       125  Animation                            Nighthawks\n",
       "138       139  Animation         Allergies: A Natural Approach\n",
       "152       153  Animation                              MTV Yoga\n",
       "166       167  Animation                            The Chorus\n",
       "180       181  Animation                         The Last Shot\n",
       "194       195  Animation                       Chasing Freedom\n",
       "208       209  Animation  Star Trek: Deep Space Nine: Season 5\n",
       "222       223  Animation            Chappelle's Show: Season 1\n",
       "235       237  Animation                       Broken Blossoms"
      ]
     },
     "execution_count": 69,
     "metadata": {},
     "output_type": "execute_result"
    }
   ],
   "source": [
    "newDF = df[['Movie_Id','Genre','MovieName']].drop_duplicates()\n",
    "newDF.reset_index(inplace=True)\n",
    "newDF.drop(columns=['index'],inplace=True)\n",
    "newDF = newDF[(newDF['Genre']=='Animation')]\n",
    "newDF"
   ]
  },
  {
   "cell_type": "code",
   "execution_count": 76,
   "metadata": {},
   "outputs": [
    {
     "name": "stdout",
     "output_type": "stream",
     "text": [
      "     Movie_Id      Genre                             MovieName  \\\n",
      "208       209  Animation  Star Trek: Deep Space Nine: Season 5   \n",
      "166       167  Animation                            The Chorus   \n",
      "222       223  Animation            Chappelle's Show: Season 1   \n",
      "96         97  Animation                         Mostly Martha   \n",
      "56         57  Animation                           Richard III   \n",
      "\n",
      "     Estimation_Score  \n",
      "208          4.280663  \n",
      "166          4.261265  \n",
      "222          4.211734  \n",
      "96           4.027227  \n",
      "56           4.021617  \n"
     ]
    }
   ],
   "source": [
    "# Training it to one genre - Trial\n",
    "data = Dataset.load_from_df(df[['Genre','Movie_Id','Rating']],reader)\n",
    "trainset = data.build_full_trainset()\n",
    "svd.fit(trainset)\n",
    "newDF['Estimation_Score']=newDF['Movie_Id'].apply(lambda x: svd.predict('Horror',x).est)\n",
    "newDF.sort_values('Estimation_Score',ascending=False,inplace=True)\n",
    "print(newDF.head(5))"
   ]
  },
  {
   "cell_type": "code",
   "execution_count": 77,
   "metadata": {},
   "outputs": [
    {
     "data": {
      "text/html": [
       "<div>\n",
       "<style scoped>\n",
       "    .dataframe tbody tr th:only-of-type {\n",
       "        vertical-align: middle;\n",
       "    }\n",
       "\n",
       "    .dataframe tbody tr th {\n",
       "        vertical-align: top;\n",
       "    }\n",
       "\n",
       "    .dataframe thead th {\n",
       "        text-align: right;\n",
       "    }\n",
       "</style>\n",
       "<table border=\"1\" class=\"dataframe\">\n",
       "  <thead>\n",
       "    <tr style=\"text-align: right;\">\n",
       "      <th></th>\n",
       "      <th>Movie_Id</th>\n",
       "      <th>Genre</th>\n",
       "      <th>MovieName</th>\n",
       "      <th>Estimation_Score</th>\n",
       "    </tr>\n",
       "  </thead>\n",
       "  <tbody>\n",
       "    <tr>\n",
       "      <th>208</th>\n",
       "      <td>209</td>\n",
       "      <td>Animation</td>\n",
       "      <td>Star Trek: Deep Space Nine: Season 5</td>\n",
       "      <td>4.280663</td>\n",
       "    </tr>\n",
       "    <tr>\n",
       "      <th>166</th>\n",
       "      <td>167</td>\n",
       "      <td>Animation</td>\n",
       "      <td>The Chorus</td>\n",
       "      <td>4.261265</td>\n",
       "    </tr>\n",
       "    <tr>\n",
       "      <th>222</th>\n",
       "      <td>223</td>\n",
       "      <td>Animation</td>\n",
       "      <td>Chappelle's Show: Season 1</td>\n",
       "      <td>4.211734</td>\n",
       "    </tr>\n",
       "    <tr>\n",
       "      <th>96</th>\n",
       "      <td>97</td>\n",
       "      <td>Animation</td>\n",
       "      <td>Mostly Martha</td>\n",
       "      <td>4.027227</td>\n",
       "    </tr>\n",
       "    <tr>\n",
       "      <th>56</th>\n",
       "      <td>57</td>\n",
       "      <td>Animation</td>\n",
       "      <td>Richard III</td>\n",
       "      <td>4.021617</td>\n",
       "    </tr>\n",
       "    <tr>\n",
       "      <th>70</th>\n",
       "      <td>71</td>\n",
       "      <td>Animation</td>\n",
       "      <td>Maya Lin: A Strong Clear Vision</td>\n",
       "      <td>4.015373</td>\n",
       "    </tr>\n",
       "    <tr>\n",
       "      <th>17</th>\n",
       "      <td>18</td>\n",
       "      <td>Animation</td>\n",
       "      <td>Immortal Beloved</td>\n",
       "      <td>3.963838</td>\n",
       "    </tr>\n",
       "    <tr>\n",
       "      <th>11</th>\n",
       "      <td>12</td>\n",
       "      <td>Animation</td>\n",
       "      <td>My Favorite Brunette</td>\n",
       "      <td>3.799476</td>\n",
       "    </tr>\n",
       "    <tr>\n",
       "      <th>124</th>\n",
       "      <td>125</td>\n",
       "      <td>Animation</td>\n",
       "      <td>Nighthawks</td>\n",
       "      <td>3.789832</td>\n",
       "    </tr>\n",
       "    <tr>\n",
       "      <th>194</th>\n",
       "      <td>195</td>\n",
       "      <td>Animation</td>\n",
       "      <td>Chasing Freedom</td>\n",
       "      <td>3.737282</td>\n",
       "    </tr>\n",
       "    <tr>\n",
       "      <th>7</th>\n",
       "      <td>8</td>\n",
       "      <td>Animation</td>\n",
       "      <td>What the #$*! Do We Know!?</td>\n",
       "      <td>3.629203</td>\n",
       "    </tr>\n",
       "    <tr>\n",
       "      <th>83</th>\n",
       "      <td>84</td>\n",
       "      <td>Animation</td>\n",
       "      <td>The Powerpuff Girls Movie</td>\n",
       "      <td>3.572655</td>\n",
       "    </tr>\n",
       "    <tr>\n",
       "      <th>9</th>\n",
       "      <td>10</td>\n",
       "      <td>Animation</td>\n",
       "      <td>Fighter</td>\n",
       "      <td>3.555452</td>\n",
       "    </tr>\n",
       "    <tr>\n",
       "      <th>110</th>\n",
       "      <td>111</td>\n",
       "      <td>Animation</td>\n",
       "      <td>Duplex (Widescreen)</td>\n",
       "      <td>3.540465</td>\n",
       "    </tr>\n",
       "    <tr>\n",
       "      <th>15</th>\n",
       "      <td>16</td>\n",
       "      <td>Animation</td>\n",
       "      <td>Screamers</td>\n",
       "      <td>3.481611</td>\n",
       "    </tr>\n",
       "    <tr>\n",
       "      <th>35</th>\n",
       "      <td>36</td>\n",
       "      <td>Animation</td>\n",
       "      <td>Lady Chatterley</td>\n",
       "      <td>3.382749</td>\n",
       "    </tr>\n",
       "    <tr>\n",
       "      <th>13</th>\n",
       "      <td>14</td>\n",
       "      <td>Animation</td>\n",
       "      <td>Nature: Antarctica</td>\n",
       "      <td>3.360529</td>\n",
       "    </tr>\n",
       "    <tr>\n",
       "      <th>19</th>\n",
       "      <td>20</td>\n",
       "      <td>Animation</td>\n",
       "      <td>Seeta Aur Geeta</td>\n",
       "      <td>3.340647</td>\n",
       "    </tr>\n",
       "    <tr>\n",
       "      <th>235</th>\n",
       "      <td>237</td>\n",
       "      <td>Animation</td>\n",
       "      <td>Broken Blossoms</td>\n",
       "      <td>3.334257</td>\n",
       "    </tr>\n",
       "    <tr>\n",
       "      <th>152</th>\n",
       "      <td>153</td>\n",
       "      <td>Animation</td>\n",
       "      <td>MTV Yoga</td>\n",
       "      <td>3.221341</td>\n",
       "    </tr>\n",
       "  </tbody>\n",
       "</table>\n",
       "</div>"
      ],
      "text/plain": [
       "     Movie_Id      Genre                             MovieName  \\\n",
       "208       209  Animation  Star Trek: Deep Space Nine: Season 5   \n",
       "166       167  Animation                            The Chorus   \n",
       "222       223  Animation            Chappelle's Show: Season 1   \n",
       "96         97  Animation                         Mostly Martha   \n",
       "56         57  Animation                           Richard III   \n",
       "70         71  Animation       Maya Lin: A Strong Clear Vision   \n",
       "17         18  Animation                      Immortal Beloved   \n",
       "11         12  Animation                  My Favorite Brunette   \n",
       "124       125  Animation                            Nighthawks   \n",
       "194       195  Animation                       Chasing Freedom   \n",
       "7           8  Animation            What the #$*! Do We Know!?   \n",
       "83         84  Animation             The Powerpuff Girls Movie   \n",
       "9          10  Animation                               Fighter   \n",
       "110       111  Animation                   Duplex (Widescreen)   \n",
       "15         16  Animation                             Screamers   \n",
       "35         36  Animation                       Lady Chatterley   \n",
       "13         14  Animation                    Nature: Antarctica   \n",
       "19         20  Animation                       Seeta Aur Geeta   \n",
       "235       237  Animation                       Broken Blossoms   \n",
       "152       153  Animation                              MTV Yoga   \n",
       "\n",
       "     Estimation_Score  \n",
       "208          4.280663  \n",
       "166          4.261265  \n",
       "222          4.211734  \n",
       "96           4.027227  \n",
       "56           4.021617  \n",
       "70           4.015373  \n",
       "17           3.963838  \n",
       "11           3.799476  \n",
       "124          3.789832  \n",
       "194          3.737282  \n",
       "7            3.629203  \n",
       "83           3.572655  \n",
       "9            3.555452  \n",
       "110          3.540465  \n",
       "15           3.481611  \n",
       "35           3.382749  \n",
       "13           3.360529  \n",
       "19           3.340647  \n",
       "235          3.334257  \n",
       "152          3.221341  "
      ]
     },
     "execution_count": 77,
     "metadata": {},
     "output_type": "execute_result"
    }
   ],
   "source": [
    "newDF.head(20)"
   ]
  },
  {
   "cell_type": "code",
   "execution_count": 142,
   "metadata": {},
   "outputs": [],
   "source": [
    "bestMovie = pd.DataFrame(columns=['Genre','Movies','Ratings'])\n",
    "bestMovie['Genre'] = df['Genre'].unique()\n",
    "worstMovie = pd.DataFrame(columns=['Genre','Movies','Ratings'])\n",
    "worstMovie['Genre'] = df['Genre'].unique()\n",
    "for i in range(len(df['Genre'].unique())):\n",
    "    globals()[f'Genre{i}'] = df[['Movie_Id','Genre','MovieName']].drop_duplicates()\n",
    "    globals()[f'Genre{i}'].reset_index(inplace=True)\n",
    "    globals()[f'Genre{i}'].drop(columns=['index'],inplace=True)\n",
    "    globals()[f'Genre{i}'] = globals()[f'Genre{i}'][(globals()[f'Genre{i}']['Genre']==df['Genre'].unique()[i])]\n",
    "\n",
    "    data = Dataset.load_from_df(df[['Genre','Movie_Id','Rating']],reader)\n",
    "    trainset = data.build_full_trainset()\n",
    "    svd.fit(trainset)\n",
    "    globals()[f'Genre{i}']['Estimation_Score']=globals()[f'Genre{i}']['Movie_Id'].apply(lambda x: svd.predict(movieGenre[i],x).est)\n",
    "    globals()[f'Genre{i}'].sort_values('Estimation_Score',ascending=False,inplace=True)\n",
    "    globals()[f'Genre{i}'].reset_index(inplace=True)\n",
    "    bestMovie.Movies[i] = globals()[f'Genre{i}'].MovieName[0]\n",
    "    bestMovie.Ratings[i] = globals()[f'Genre{i}'].Estimation_Score[0]\n",
    "    worstMovie.Movies[i] = globals()[f'Genre{i}'].MovieName.iloc[-1]\n",
    "    worstMovie.Ratings[i] =  globals()[f'Genre{i}'].Estimation_Score.iloc[-1]"
   ]
  },
  {
   "cell_type": "code",
   "execution_count": 144,
   "metadata": {},
   "outputs": [
    {
     "data": {
      "text/html": [
       "<div>\n",
       "<style scoped>\n",
       "    .dataframe tbody tr th:only-of-type {\n",
       "        vertical-align: middle;\n",
       "    }\n",
       "\n",
       "    .dataframe tbody tr th {\n",
       "        vertical-align: top;\n",
       "    }\n",
       "\n",
       "    .dataframe thead th {\n",
       "        text-align: right;\n",
       "    }\n",
       "</style>\n",
       "<table border=\"1\" class=\"dataframe\">\n",
       "  <thead>\n",
       "    <tr style=\"text-align: right;\">\n",
       "      <th></th>\n",
       "      <th>Genre</th>\n",
       "      <th>Movies</th>\n",
       "      <th>Ratings</th>\n",
       "    </tr>\n",
       "  </thead>\n",
       "  <tbody>\n",
       "    <tr>\n",
       "      <th>0</th>\n",
       "      <td>Action</td>\n",
       "      <td>Dinosaur Planet</td>\n",
       "      <td>3.805749</td>\n",
       "    </tr>\n",
       "    <tr>\n",
       "      <th>1</th>\n",
       "      <td>Comedy</td>\n",
       "      <td>Isle of Man TT 2004 Review</td>\n",
       "      <td>3.501404</td>\n",
       "    </tr>\n",
       "    <tr>\n",
       "      <th>2</th>\n",
       "      <td>Horror</td>\n",
       "      <td>North by NorthWest</td>\n",
       "      <td>4.114222</td>\n",
       "    </tr>\n",
       "    <tr>\n",
       "      <th>3</th>\n",
       "      <td>Romance</td>\n",
       "      <td>Paula Abdul's Get Up &amp; Dance</td>\n",
       "      <td>2.700786</td>\n",
       "    </tr>\n",
       "    <tr>\n",
       "      <th>4</th>\n",
       "      <td>Thriller</td>\n",
       "      <td>Lord of the Rings: The Return of the King: Ext...</td>\n",
       "      <td>4.421561</td>\n",
       "    </tr>\n",
       "    <tr>\n",
       "      <th>5</th>\n",
       "      <td>Fiction</td>\n",
       "      <td>Sick</td>\n",
       "      <td>3.081482</td>\n",
       "    </tr>\n",
       "    <tr>\n",
       "      <th>6</th>\n",
       "      <td>Animation</td>\n",
       "      <td>Star Trek: Deep Space Nine: Season 5</td>\n",
       "      <td>4.325423</td>\n",
       "    </tr>\n",
       "    <tr>\n",
       "      <th>7</th>\n",
       "      <td>Gang</td>\n",
       "      <td>Star Trek: Voyager: Season 1</td>\n",
       "      <td>3.788643</td>\n",
       "    </tr>\n",
       "    <tr>\n",
       "      <th>8</th>\n",
       "      <td>Other</td>\n",
       "      <td>Elfen Lied</td>\n",
       "      <td>4.111881</td>\n",
       "    </tr>\n",
       "    <tr>\n",
       "      <th>9</th>\n",
       "      <td>Mystery</td>\n",
       "      <td>Davy Crockett: 50th Anniversary Double Feature</td>\n",
       "      <td>3.928817</td>\n",
       "    </tr>\n",
       "    <tr>\n",
       "      <th>10</th>\n",
       "      <td>Drama</td>\n",
       "      <td>Woman of the Year</td>\n",
       "      <td>4.009843</td>\n",
       "    </tr>\n",
       "    <tr>\n",
       "      <th>11</th>\n",
       "      <td>Crime</td>\n",
       "      <td>Record of Lodoss War: Chronicles of the Heroic...</td>\n",
       "      <td>4.015348</td>\n",
       "    </tr>\n",
       "    <tr>\n",
       "      <th>12</th>\n",
       "      <td>Sci-Fi</td>\n",
       "      <td>I Love Lucy: Season 2</td>\n",
       "      <td>3.902912</td>\n",
       "    </tr>\n",
       "    <tr>\n",
       "      <th>13</th>\n",
       "      <td>Biography</td>\n",
       "      <td>Gentlemen of Fortune</td>\n",
       "      <td>4.310902</td>\n",
       "    </tr>\n",
       "    <tr>\n",
       "      <th>14</th>\n",
       "      <td>War</td>\n",
       "      <td>WWE: Royal Rumble 2005</td>\n",
       "      <td>3.958136</td>\n",
       "    </tr>\n",
       "    <tr>\n",
       "      <th>15</th>\n",
       "      <td>Historical</td>\n",
       "      <td>Ninotchka</td>\n",
       "      <td>3.768977</td>\n",
       "    </tr>\n",
       "    <tr>\n",
       "      <th>16</th>\n",
       "      <td>Documentary</td>\n",
       "      <td>Stevie Ray Vaughan and Double Trouble: Live at...</td>\n",
       "      <td>3.999525</td>\n",
       "    </tr>\n",
       "    <tr>\n",
       "      <th>17</th>\n",
       "      <td>Educational</td>\n",
       "      <td>GTO: Great Teacher Onizuka: Set 2</td>\n",
       "      <td>4.211352</td>\n",
       "    </tr>\n",
       "    <tr>\n",
       "      <th>18</th>\n",
       "      <td>RomCom</td>\n",
       "      <td>Invader Zim</td>\n",
       "      <td>3.894515</td>\n",
       "    </tr>\n",
       "    <tr>\n",
       "      <th>19</th>\n",
       "      <td>Fan</td>\n",
       "      <td>Richard Pryor: Live on the Sunset Strip</td>\n",
       "      <td>3.830269</td>\n",
       "    </tr>\n",
       "  </tbody>\n",
       "</table>\n",
       "</div>"
      ],
      "text/plain": [
       "          Genre                                             Movies   Ratings\n",
       "0        Action                                    Dinosaur Planet  3.805749\n",
       "1        Comedy                         Isle of Man TT 2004 Review  3.501404\n",
       "2        Horror                                 North by NorthWest  4.114222\n",
       "3       Romance                       Paula Abdul's Get Up & Dance  2.700786\n",
       "4      Thriller  Lord of the Rings: The Return of the King: Ext...  4.421561\n",
       "5       Fiction                                               Sick  3.081482\n",
       "6     Animation               Star Trek: Deep Space Nine: Season 5  4.325423\n",
       "7          Gang                       Star Trek: Voyager: Season 1  3.788643\n",
       "8         Other                                         Elfen Lied  4.111881\n",
       "9       Mystery     Davy Crockett: 50th Anniversary Double Feature  3.928817\n",
       "10        Drama                                  Woman of the Year  4.009843\n",
       "11        Crime  Record of Lodoss War: Chronicles of the Heroic...  4.015348\n",
       "12       Sci-Fi                              I Love Lucy: Season 2  3.902912\n",
       "13    Biography                               Gentlemen of Fortune  4.310902\n",
       "14          War                             WWE: Royal Rumble 2005  3.958136\n",
       "15   Historical                                          Ninotchka  3.768977\n",
       "16  Documentary  Stevie Ray Vaughan and Double Trouble: Live at...  3.999525\n",
       "17  Educational                  GTO: Great Teacher Onizuka: Set 2  4.211352\n",
       "18       RomCom                                        Invader Zim  3.894515\n",
       "19          Fan            Richard Pryor: Live on the Sunset Strip  3.830269"
      ]
     },
     "execution_count": 144,
     "metadata": {},
     "output_type": "execute_result"
    }
   ],
   "source": [
    "bestMovie"
   ]
  },
  {
   "cell_type": "code",
   "execution_count": 145,
   "metadata": {},
   "outputs": [
    {
     "name": "stdout",
     "output_type": "stream",
     "text": [
      "The best movies for different genres are:\n",
      "0. Action: Dinosaur Planet - with ratings of 3.8057493878555593\n",
      "1. Comedy: Isle of Man TT 2004 Review - with ratings of 3.5014044087618936\n",
      "2. Horror: North by NorthWest - with ratings of 4.114222043499178\n",
      "3. Romance: Paula Abdul's Get Up & Dance - with ratings of 2.7007864876103946\n",
      "4. Thriller: Lord of the Rings: The Return of the King: Extended Edition: Bonus Material - with ratings of 4.421561039756829\n",
      "5. Fiction: Sick - with ratings of 3.0814817920211284\n",
      "6. Animation: Star Trek: Deep Space Nine: Season 5 - with ratings of 4.325423045153874\n",
      "7. Gang: Star Trek: Voyager: Season 1 - with ratings of 3.7886434238842526\n",
      "8. Other: Elfen Lied - with ratings of 4.111881175290403\n",
      "9. Mystery: Davy Crockett: 50th Anniversary Double Feature - with ratings of 3.9288169155933077\n",
      "10. Drama: Woman of the Year - with ratings of 4.009842790238052\n",
      "11. Crime: Record of Lodoss War: Chronicles of the Heroic Knight - with ratings of 4.015348016781885\n",
      "12. Sci-Fi: I Love Lucy: Season 2 - with ratings of 3.902911975501999\n",
      "13. Biography: Gentlemen of Fortune - with ratings of 4.3109015391878795\n",
      "14. War: WWE: Royal Rumble 2005 - with ratings of 3.958136481986411\n",
      "15. Historical: Ninotchka - with ratings of 3.7689774450933755\n",
      "16. Documentary: Stevie Ray Vaughan and Double Trouble: Live at Montreux 1982 & 1985 - with ratings of 3.999525301252261\n",
      "17. Educational: GTO: Great Teacher Onizuka: Set 2 - with ratings of 4.211351686686474\n",
      "18. RomCom: Invader Zim - with ratings of 3.8945149315714485\n",
      "19. Fan: Richard Pryor: Live on the Sunset Strip - with ratings of 3.830269230775858\n"
     ]
    }
   ],
   "source": [
    "print('The best movies for different genres are:')\n",
    "for i in range(len(df['Genre'].unique())):\n",
    "    print(f'{i}. {bestMovie.Genre[i]}: {bestMovie.Movies[i]} - with ratings of {bestMovie.Ratings[i]}')"
   ]
  },
  {
   "cell_type": "code",
   "execution_count": 146,
   "metadata": {},
   "outputs": [
    {
     "name": "stdout",
     "output_type": "stream",
     "text": [
      "The worst movies for different genres are:\n",
      "0. Action: Dinosaur Planet - with ratings of 3.8057493878555593\n",
      "1. Comedy: Isle of Man TT 2004 Review - with ratings of 3.5014044087618936\n",
      "2. Horror: Character - with ratings of 3.785172581323503\n",
      "3. Romance: Paula Abdul's Get Up & Dance - with ratings of 2.7007864876103946\n",
      "4. Thriller: 8 Man - with ratings of 2.0750735995007754\n",
      "5. Fiction: Sick - with ratings of 3.0814817920211284\n",
      "6. Animation: Chump Change - with ratings of 2.6072190079290003\n",
      "7. Gang: Cold Blooded - with ratings of 2.3439523844655663\n",
      "8. Other: Lost in the Wild - with ratings of 2.519685856322965\n",
      "9. Mystery: Iron Monkey 2 - with ratings of 2.0625927745333827\n",
      "10. Drama: The Libertine - with ratings of 2.372137053405507\n",
      "11. Crime: Darkwolf - with ratings of 2.432999562165877\n",
      "12. Sci-Fi: Horror Vision - with ratings of 1.752408383597728\n",
      "13. Biography: Searching for Paradise - with ratings of 2.292979414873338\n",
      "14. War: Cannibal Women in the Avocado Jungle of Death - with ratings of 2.338252702996095\n",
      "15. Historical: Where Sleeping Dogs Lie - with ratings of 1.9981203443561986\n",
      "16. Documentary: Spirit Lost - with ratings of 2.0695377150609344\n",
      "17. Educational: The Bonesetter - with ratings of 1.7468044819103379\n",
      "18. RomCom: Dona Herlinda and Her Son - with ratings of 2.440266598875961\n",
      "19. Fan: Sleepover Nightmare - with ratings of 2.1053658331933884\n"
     ]
    }
   ],
   "source": [
    "print('The worst movies for different genres are:')\n",
    "for i in range(len(df['Genre'].unique())):\n",
    "    print(f'{i}. {worstMovie.Genre[i]}: {worstMovie.Movies[i]} - with ratings of {worstMovie.Ratings[i]}')"
   ]
  },
  {
   "cell_type": "markdown",
   "metadata": {},
   "source": [
    "## To find Best and worst rated Movie"
   ]
  },
  {
   "cell_type": "code",
   "execution_count": 154,
   "metadata": {},
   "outputs": [
    {
     "name": "stdout",
     "output_type": "stream",
     "text": [
      "The best movie is Lord of the Rings: The Return of the King: Extended Edition: Bonus Material has a rating of 4.421561039756829\n",
      "The worst movie is The Bonesetter has a rating of 1.7468044819103379\n"
     ]
    }
   ],
   "source": [
    "worstMovie.sort_values(by='Ratings', ascending=True, inplace=True)\n",
    "bestMovie.sort_values(by='Ratings', ascending=False, inplace=True)\n",
    "print(f\"The best movie is {bestMovie.Movies.iloc[0]} has a rating of {bestMovie.Ratings.iloc[0]}\\nThe worst movie is {worstMovie.Movies.iloc[0]} has a rating of {worstMovie.Ratings.iloc[0]}\")"
   ]
  },
  {
   "cell_type": "code",
   "execution_count": null,
   "metadata": {},
   "outputs": [],
   "source": []
  }
 ],
 "metadata": {
  "kernelspec": {
   "display_name": "Python 3 (ipykernel)",
   "language": "python",
   "name": "python3"
  },
  "language_info": {
   "codemirror_mode": {
    "name": "ipython",
    "version": 3
   },
   "file_extension": ".py",
   "mimetype": "text/x-python",
   "name": "python",
   "nbconvert_exporter": "python",
   "pygments_lexer": "ipython3",
   "version": "3.9.12"
  }
 },
 "nbformat": 4,
 "nbformat_minor": 2
}
